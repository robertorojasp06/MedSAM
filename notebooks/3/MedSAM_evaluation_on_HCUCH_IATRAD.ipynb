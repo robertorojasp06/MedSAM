{
 "cells": [
  {
   "cell_type": "code",
   "execution_count": 1,
   "id": "78126ed3",
   "metadata": {},
   "outputs": [],
   "source": [
    "import json\n",
    "import pandas as pd\n",
    "import matplotlib.pyplot as plt\n",
    "import matplotlib.patches as mpatches\n",
    "import numpy as np\n",
    "from pathlib import Path"
   ]
  },
  {
   "cell_type": "code",
   "execution_count": 2,
   "id": "5c6233ec",
   "metadata": {},
   "outputs": [],
   "source": [
    "paths_to_performance = [\n",
    "    {\n",
    "        \"window\": \"lung\",\n",
    "        \"foreground_label\": 1,\n",
    "        \"label_description\": \"parenquima\",\n",
    "        \"bbox_scale\": 1.0,\n",
    "        \"path_to_performance\": \"resources/performance_lung_window_foreground_label_1_scale_1_0.json\"\n",
    "    },\n",
    "    {\n",
    "        \"window\": \"lung\",\n",
    "        \"foreground_label\": 1,\n",
    "        \"label_description\": \"parenquima\",\n",
    "        \"bbox_scale\": 1.25,\n",
    "        \"path_to_performance\": \"resources/performance_lung_window_foreground_label_1_scale_1_25.json\"\n",
    "    },\n",
    "    {\n",
    "        \"window\": \"lung\",\n",
    "        \"foreground_label\": 1,\n",
    "        \"label_description\": \"parenquima\",\n",
    "        \"bbox_scale\": 1.5,\n",
    "        \"path_to_performance\": \"resources/performance_lung_window_foreground_label_1_scale_1_5.json\"\n",
    "    },\n",
    "    {\n",
    "        \"window\": \"lung\",\n",
    "        \"foreground_label\": 2,\n",
    "        \"label_description\": \"infection\",\n",
    "        \"bbox_scale\": 1.0,\n",
    "        \"path_to_performance\": \"resources/performance_lung_window_foreground_label_2_scale_1_0.json\"\n",
    "    },\n",
    "    {\n",
    "        \"window\": \"lung\",\n",
    "        \"foreground_label\": 2,\n",
    "        \"label_description\": \"infection\",\n",
    "        \"bbox_scale\": 1.25,\n",
    "        \"path_to_performance\": \"resources/performance_lung_window_foreground_label_2_scale_1_25.json\"\n",
    "    },\n",
    "    {\n",
    "        \"window\": \"lung\",\n",
    "        \"foreground_label\": 2,\n",
    "        \"label_description\": \"infection\",\n",
    "        \"bbox_scale\": 1.5,\n",
    "        \"path_to_performance\": \"resources/performance_lung_window_foreground_label_2_scale_1_5.json\"\n",
    "    },\n",
    "]"
   ]
  },
  {
   "cell_type": "code",
   "execution_count": 3,
   "id": "ef404dcd",
   "metadata": {},
   "outputs": [],
   "source": [
    "performance_df = pd.DataFrame()\n",
    "for item in paths_to_performance:\n",
    "    with open(item[\"path_to_performance\"], 'r') as file:\n",
    "        df = pd.DataFrame(json.load(file)['bboxes'])\n",
    "    df[\"normalization\"] = item[\"window\"]\n",
    "    df[\"foreground_label\"] = item[\"foreground_label\"]\n",
    "    df[\"label_description\"] = item[\"label_description\"]\n",
    "    df[\"bbox_scale\"] = item[\"bbox_scale\"]\n",
    "    performance_df = pd.concat([performance_df, df])\n",
    "performance_df.reset_index(drop=True, inplace=True)"
   ]
  },
  {
   "cell_type": "code",
   "execution_count": 4,
   "id": "36484a4b",
   "metadata": {},
   "outputs": [
    {
     "name": "stdout",
     "output_type": "stream",
     "text": [
      "Minimum size for measurable lesion (along one x-y axis): 16 pixels \n",
      "Total bounding boxes: 514725\n",
      "Total bounding boxes with > 25 annotated pixels: 514725\n"
     ]
    }
   ],
   "source": [
    "min_annotated_pixels = 25\n",
    "pixel_size_mm = 0.6422 # mean (each study has a different resolution; median=0.6464)\n",
    "min_measurable_size_mm = 10\n",
    "print(f\"Minimum size for measurable lesion (along one x-y axis): {int(np.ceil(min_measurable_size_mm / pixel_size_mm))} pixels \")\n",
    "print(f\"Total bounding boxes: {len(performance_df)}\")\n",
    "performance_df = performance_df[performance_df['annotated_pixels'] >= min_annotated_pixels]\n",
    "print(f\"Total bounding boxes with > {min_annotated_pixels} annotated pixels: {len(performance_df)}\")"
   ]
  },
  {
   "cell_type": "code",
   "execution_count": 5,
   "id": "301e170f",
   "metadata": {},
   "outputs": [
    {
     "data": {
      "image/png": "[encoded data removed]",
      "text/plain": [
       "<Figure size 432x288 with 1 Axes>"
      ]
     },
     "metadata": {
      "needs_background": "light"
     },
     "output_type": "display_data"
    }
   ],
   "source": [
    "labels_colors = ['r', 'c']\n",
    "scales_count = len(performance_df['bbox_scale'].unique())\n",
    "colors = scales_count * [labels_colors[0]] +  scales_count * [labels_colors[1]]\n",
    "boxplot = performance_df.boxplot(\n",
    "    column='dice_score',\n",
    "    by=['label_description', 'bbox_scale'],\n",
    "    return_type='both',\n",
    "    patch_artist=True,\n",
    "    medianprops={'color': 'k', 'linewidth': 1},\n",
    "    whiskerprops={'linestyle': '--'}\n",
    ")\n",
    "for _, (_, row) in boxplot.items():\n",
    "    for color, box in zip(colors, row['boxes']):\n",
    "        box.set_facecolor(color)\n",
    "        box.set_alpha(0.75)\n",
    "        box.set_linewidth(2)\n",
    "handles = [mpatches.Patch(color=color) for color in labels_colors]\n",
    "labels = ['infection', 'parenquima']\n",
    "plt.legend(\n",
    "    handles=handles,\n",
    "    labels=labels,\n",
    "    loc='upper center',\n",
    "    ncol=len(colors),\n",
    "    bbox_to_anchor=(0.5, 1.16),\n",
    "    fontsize=12\n",
    ")\n",
    "plt.suptitle('')\n",
    "plt.title(\n",
    "    'Segmentation performance of MedSAM on HCUCH-IATRAD dataset',\n",
    "    x=0.5,\n",
    "    y=1.15,\n",
    "    fontweight='bold',\n",
    "    fontsize=14\n",
    ")\n",
    "plt.ylabel('dice score', fontsize=12)\n",
    "plt.xlabel('(foreground, bbox_scale)', fontsize=12)\n",
    "plt.xticks(rotation=75)\n",
    "#plt.savefig('MedSAM_performance_HCUCH_IATRAD.png', bbox_inches='tight')\n",
    "plt.show()"
   ]
  }
 ],
 "metadata": {
  "kernelspec": {
   "display_name": "Python 3 (ipykernel)",
   "language": "python",
   "name": "python3"
  },
  "language_info": {
   "codemirror_mode": {
    "name": "ipython",
    "version": 3
   },
   "file_extension": ".py",
   "mimetype": "text/x-python",
   "name": "python",
   "nbconvert_exporter": "python",
   "pygments_lexer": "ipython3",
   "version": "3.9.7"
  }
 },
 "nbformat": 4,
 "nbformat_minor": 5
}
